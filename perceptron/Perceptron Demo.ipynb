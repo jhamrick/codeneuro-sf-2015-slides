{
 "cells": [
  {
   "cell_type": "markdown",
   "metadata": {},
   "source": [
    "# Perceptron demo"
   ]
  },
  {
   "cell_type": "code",
   "execution_count": null,
   "metadata": {
    "collapsed": false
   },
   "outputs": [],
   "source": [
    "%matplotlib notebook\n",
    "import numpy as np\n",
    "import matplotlib.pyplot as plt\n",
    "\n",
    "from perceptron import gen_data, set_limits, init_plot, calc_normal"
   ]
  },
  {
   "cell_type": "code",
   "execution_count": null,
   "metadata": {
    "collapsed": true
   },
   "outputs": [],
   "source": [
    "def sigmoid(x):\n",
    "    return 1 / (1 + np.exp(-x))"
   ]
  },
  {
   "cell_type": "code",
   "execution_count": null,
   "metadata": {
    "collapsed": false
   },
   "outputs": [],
   "source": [
    "def demo(m=20, alpha=0.5, loops=10):\n",
    "    \"\"\"Run a demo of training a perceptron.\n",
    "    \n",
    "    Parameters\n",
    "    ----------\n",
    "    m : int\n",
    "        Number of datapoints per class\n",
    "    alpha : float\n",
    "        Initial learning rate\n",
    "    loops : int\n",
    "        Number of times to go through the data\n",
    "        \n",
    "    \"\"\"\n",
    "    # generate some random data\n",
    "    x, y = gen_data(m)\n",
    "        \n",
    "    # initialize helper variables\n",
    "    X = np.concatenate([x, np.ones((2 * m, 1))], axis=1)\n",
    "    errors = np.empty(loops * y.size)\n",
    "\n",
    "    # set up our initial weights and normal vectors\n",
    "    w = np.array([0, 0.2, 0])\n",
    "    normal, boundary = calc_normal(np.random.randn(2), w)\n",
    "\n",
    "    # initialize the plot\n",
    "    update_plot = init_plot(x, y, boundary, loops)\n",
    "\n",
    "    for i in range(loops):\n",
    "        # update the learning rate\n",
    "        alpha = alpha * 0.5\n",
    "\n",
    "        for j in range(y.size):\n",
    "            # number of iterations so far\n",
    "            k = i * y.size + j\n",
    "            \n",
    "            # compute the output of the perceptron and the error to the true labels\n",
    "            output = sigmoid(np.dot(w, X.T))\n",
    "            errors[k] = ((y - output) ** 2).sum()\n",
    "            \n",
    "            # update our weights and recalculate the normal vector\n",
    "            w += alpha * (y[j] - output[j]) * output[j] * (1 - output[j]) * X[j]\n",
    "            normal, boundary = calc_normal(normal, w)\n",
    "\n",
    "            # update the plot\n",
    "            update_plot(errors[:k], boundary)"
   ]
  },
  {
   "cell_type": "code",
   "execution_count": null,
   "metadata": {
    "collapsed": false,
    "scrolled": false
   },
   "outputs": [],
   "source": [
    "demo(loops=5)"
   ]
  }
 ],
 "metadata": {
  "kernelspec": {
   "display_name": "Python 3",
   "language": "python",
   "name": "python3"
  },
  "language_info": {
   "codemirror_mode": {
    "name": "ipython",
    "version": 3
   },
   "file_extension": ".py",
   "mimetype": "text/x-python",
   "name": "python",
   "nbconvert_exporter": "python",
   "pygments_lexer": "ipython3",
   "version": "3.4.2"
  }
 },
 "nbformat": 4,
 "nbformat_minor": 0
}
